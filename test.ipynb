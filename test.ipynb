{
 "cells": [
  {
   "cell_type": "code",
   "execution_count": 1,
   "metadata": {},
   "outputs": [],
   "source": [
    "import torch\n",
    "from model_utils import *\n",
    "from utils import *"
   ]
  },
  {
   "cell_type": "code",
   "execution_count": 2,
   "metadata": {},
   "outputs": [],
   "source": [
    "def load_models():\n",
    "    out_dir = './saved_models'\n",
    "    encoder = torch.load('{}/E_selfies'.format(out_dir))  # Load saved encoder\n",
    "    decoder = torch.load('{}/D_selfies'.format(out_dir))  # Load saved decoder\n",
    "    return encoder, decoder"
   ]
  },
  {
   "cell_type": "code",
   "execution_count": 4,
   "metadata": {},
   "outputs": [
    {
     "name": "stdout",
     "output_type": "stream",
     "text": [
      "--> Translating SMILES to SELFIES...\n",
      "Finished translating SMILES to SELFIES.\n",
      "Sample_extraction: Take 500 samples from the latent space\n",
      "115.946\n"
     ]
    }
   ],
   "source": [
    "encoder, decoder = load_models()\n",
    "a,b,c,d,e,f = get_selfie_and_smiles_encodings_for_dataset('datasets/0SelectedSMILES_QM9.txt')"
   ]
  },
  {
   "cell_type": "code",
   "execution_count": 7,
   "metadata": {},
   "outputs": [
    {
     "name": "stdout",
     "output_type": "stream",
     "text": [
      "Sample_extraction: Take 500 samples from the latent space\n",
      "117.578\n"
     ]
    }
   ],
   "source": [
    "a = latent_space_quality_test(encoder,decoder,b,500,c,torch.tensor([100]))\n",
    "pro_set = 0\n",
    "for i in a:\n",
    "    smi = sf.decoder(i)\n",
    "    # print(smi)\n",
    "    pro_set += int(calculate_properties(smi)[-1])\n",
    "    # print(is_correct_smiles(i))\n",
    "\n",
    "print(pro_set/500)"
   ]
  },
  {
   "cell_type": "code",
   "execution_count": 13,
   "metadata": {},
   "outputs": [
    {
     "data": {
      "text/plain": [
       "Reusing TensorBoard on port 6008 (pid 337188), started 0:00:01 ago. (Use '!kill 337188' to kill it.)"
      ]
     },
     "metadata": {},
     "output_type": "display_data"
    },
    {
     "data": {
      "text/html": [
       "\n",
       "      <iframe id=\"tensorboard-frame-df5ca98c2e4f4d17\" width=\"100%\" height=\"800\" frameborder=\"0\">\n",
       "      </iframe>\n",
       "      <script>\n",
       "        (function() {\n",
       "          const frame = document.getElementById(\"tensorboard-frame-df5ca98c2e4f4d17\");\n",
       "          const url = new URL(\"http://localhost\");\n",
       "          const port = 6008;\n",
       "          if (port) {\n",
       "            url.port = port;\n",
       "          }\n",
       "          frame.src = url;\n",
       "        })();\n",
       "      </script>\n",
       "    "
      ],
      "text/plain": [
       "<IPython.core.display.HTML object>"
      ]
     },
     "metadata": {},
     "output_type": "display_data"
    }
   ],
   "source": [
    "%reload_ext tensorboard\n",
    "\n",
    "%tensorboard --logdir='/home/kangjongbeom/Desktop/study/torch/selfies/examples/molecular_generator/selfies_cvae_result/SELFIES'"
   ]
  }
 ],
 "metadata": {
  "kernelspec": {
   "display_name": "th21",
   "language": "python",
   "name": "python3"
  },
  "language_info": {
   "codemirror_mode": {
    "name": "ipython",
    "version": 3
   },
   "file_extension": ".py",
   "mimetype": "text/x-python",
   "name": "python",
   "nbconvert_exporter": "python",
   "pygments_lexer": "ipython3",
   "version": "3.11.7"
  }
 },
 "nbformat": 4,
 "nbformat_minor": 2
}
